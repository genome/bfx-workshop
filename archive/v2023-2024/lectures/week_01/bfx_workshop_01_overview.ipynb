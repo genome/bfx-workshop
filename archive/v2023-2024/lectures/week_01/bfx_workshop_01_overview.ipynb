{
 "cells": [
  {
   "cell_type": "markdown",
   "metadata": {},
   "source": [
    "# BFX Workshop Prerequisites\n",
    "\n",
    "Welcome back to the Fall 2023 and Spring 2024 Bioinformatics (BFX) Workshop. In order to get the most out of this course, you're going to need some things:\n",
    "\n",
    "- basic Unix command line skills\n",
    "- a reasonably modern computer with some tools/programs installed"
   ]
  },
  {
   "cell_type": "markdown",
   "metadata": {},
   "source": [
    "## Unix command line\n",
    "\n",
    "No matter what kind of computer you're using, you'll need access to a standard unix command line. If you're on MacOSX or a linux distribution, you get that for \"free\", but if you're on windows, you'll have to do some additional setup to get WSL (Windows Subsystem for Linux) installed. [See the instructions here for Windows setup help](https://wustl.app.box.com/s/atjrz45e03gk8ks8mhdebkbz7b4ho70y)\n",
    "\n",
    "\n",
    "No matter which system you use, the Unix family of operating systems all have a similar look and feel. There are standard commands for navigating a filesystem and utilities for performing common tasks on files and directories. This workshop does not specifically introduce the unix command line, but you *will not be able to succeed in this course without some command line skills*.\n",
    "\n",
    "If you are not comfortable at the unix command line right now, that's okay! We recommend working through one or more of these resources to get yourself some basic familiarity:\n",
    "\n",
    "* [Terminal Basics](https://sandbox.bio/tutorials?id=terminal-basics) at sandbox.bio for a very short introduction.\n",
    "* [Computing Basics – The Unix Shell and Command Line](https://becker.wustl.edu/classes/computing-basics-workshops/) is a virtual workshop offered by WUSTL's [Bernard Becker Medical Library](https://becker.wustl.edu/) in collaboration with WUIT's Research Infrastructure Services (RIS). Unfortunately, it is not offered until November, but [last year's materials are available](https://wustl.app.box.com/s/76f8bgd68h21etzsmsx67tfi7zotxtrj)\n",
    "* [LinkedIn Learning: Unix for Mac OS X Users](https://www.linkedin.com/learning/unix-for-mac-os-x-users) is an easy to follow macOS video tutorial introducing users to the Unix features shared with other Linux/Unix based Operation Systems (OS).\n",
    "    * Although the video is several years old and designed for Max OS X specifically, not much has changed with Unix.\n",
    "    * All current Washington University students, faculty, and staff have access to LinkedIn Learning’s resources, which cover a broad range of topics.\n",
    "    * Please visit this [WUSTL IT page for LinkedIn Learning login information](https://it.wustl.edu/items/linkedin-learning/).\n",
    "* For a more traditional user experience, the classic look and feel of [this UNIX Introduction](http://www.ee.surrey.ac.uk/Teaching/Unix/unixintro.html) will provide a background on the Operation System itself as well as introductions to UNIX commands, utilities, and navigation tools.\n",
    "* Many other Linux/UNIX tutorials exist, and if you find another one that works for you, feel free to post it in the [#bfx-workshop](https://ictsprecisionhealth.slack.com/archives/C040Q704WS2) Slack channel.\n"
   ]
  },
  {
   "cell_type": "markdown",
   "metadata": {},
   "source": [
    "## Software you'll need to have installed:\n",
    "\n",
    "There are numerous ways to install Python, R, Notebooks, etc. In fact, you will see various ways of installing software and configuring your environment throughout the workshop. Each presenter and/or software toolkit may require or suggest a different approach. The Install sections below, ex. Miniconda, Jupyter, Git, R, JAVA, Docker, etc. are one list of requirements used to load, execute, and edit Jupyter Notebooks for completing some workshop tutorials on local compute devices, ie. Mac OS X laptop or other Unix/Linux OS personal device.\n",
    "### Windows\n",
    "The lingua franca of bioinformatics is Unix command line tools, and the course has been tested using MacOSX and/or Ubuntu linux. If your computer runs windows, you can [follow these instructions](https://wustl.box.com/s/atjrz45e03gk8ks8mhdebkbz7b4ho70y) to get linux (via WSL) running on your device.\" Also see the #bfx-workshop-windows-setup channel on slack for help."
   ]
  },
  {
   "cell_type": "markdown",
   "metadata": {},
   "source": [
    "### Miniconda\n",
    "Conda is a package manager that works on Windows, Linux, and macOS. We will use a lightweight version of the package manager called Miniconda to install packages and manage the system environment. This tool should help minimize dependencies and differences in system-level libraries across the participants in the BFX Workshop.\n",
    "\n",
    "Available installers for Miniconda can be found [here](https://docs.conda.io/en/latest/miniconda.html#miniconda) through the official Conda project documentation. NOTE: Please choose the latest version of Python, ex. 3.11, although some users may already be using Python 3.9 or 3.8. Ignore Python 2 installers and please update existing Python 2 installs.  On a mac, you will need to choose an Installer appropriate for your Mac chipset, ex. Intel x86 vs. Apple M1 architecture.\n",
    "\n",
    "Once you've complete the install process, open a fresh terminal and check that conda is now installed by listing the Help menu:\n",
    "\n",
    "```\n",
    "conda -h\n",
    "```\n",
    "\n",
    "An example image of what a terminal might look like when running the above command:\n",
    "![Example Conda Help](https://github.com/genome/bfx-workshop/raw/master/archive/v2020-2021/images/conda_help.png)\n"
   ]
  },
  {
   "cell_type": "markdown",
   "metadata": {},
   "source": [
    "### Jupyter\n",
    "Jupyter is a web-based interactive computing platform that allows users to create and run \"notebooks\" that mix code and data. We'll be exploring some details below (and in future workshop sessions), but for now, just get it set up. Other installation methods will work, but for the sake of simplicity, we will install using conda like so:\n",
    "\n",
    "```\n",
    "conda install jupyter\n",
    "```\n",
    "\n",
    "Check to see that a recent version of Python3 is now used in your base conda environment:\n",
    "\n",
    "```\n",
    "python -V\n",
    "```\n",
    "\n",
    "As of September 8th, 2022, the base conda Python 3.8 version is 3.8.13, see the example image below from 2020 (v3.8.3):\n",
    "\n",
    "![Example Python Version](https://github.com/genome/bfx-workshop/raw/master/archive/v2020-2021/images/python_version.png)\n",
    "\n",
    "Now, the version will probably be something like 3.11.1"
   ]
  },
  {
   "cell_type": "markdown",
   "metadata": {},
   "source": [
    "### Docker\n",
    "Docker is a system that allows you to launch \"containers\" on your computer that contain alternate operating systems and all the dependencies for specific tools. We'll discuss this in detail during the course. For complete and updated instructions for installing Docker for Mac, please see this [link](https://docs.docker.com/docker-for-mac/install/). That page's sidebar also contains links to Linux or Windows/WSL instructions\n",
    "\n",
    "Once it's installed, launch the docker app (if it isn't already running), and then confirm that it's installed using:\n",
    "\n",
    "```\n",
    "docker --version\n",
    "```\n",
    "\n",
    "And make sure it can download and run images using: \n",
    "\n",
    "```\n",
    "docker run hello-world\n",
    "```\n"
   ]
  },
  {
   "cell_type": "markdown",
   "metadata": {},
   "source": [
    "### Java\n",
    "Java is required to use the Integrated Genomics Viewer (IGV) locally on your workstation or laptop. Please see the operating system install instructions for Java located [here](https://www.java.com/en/download/help/download_options.xml).\n"
   ]
  },
  {
   "cell_type": "markdown",
   "metadata": {},
   "source": [
    "### R\n",
    "\n",
    "We'll be using the R Studio framework in most sessions that involve creating and running R code. Please follow the instructions for [installing R and R Studio here](https://posit.co/download/rstudio-desktop/)"
   ]
  },
  {
   "cell_type": "markdown",
   "metadata": {},
   "source": [
    "### Git\n",
    "\n",
    "Git is a a version-control program for source code. On MacOSX, the easiest way is generally to install mac developer tools using:\n",
    "\n",
    "```\n",
    "xcode-select --install\n",
    "```\n",
    "\n",
    "On other OSes, follow the [instructions here to install Git](https://git-scm.com/book/en/v2/Getting-Started-Installing-Git) \n",
    "\n",
    "After doing so, you can verify that it's installed by running:\n",
    "\n",
    "```\n",
    "git --version\n",
    "```\n",
    "#### Additional Git Resources\n",
    "* Linkedin Learning [Learning Git and Github](https://www.linkedin.com/learning-login/share?account=57884865&forceAccount=false&redirect=https%3A%2F%2Fwww.linkedin.com%2Flearning%2Flearning-git-and-github-14213624%3Ftrk%3Dshare_ent_url%26shareId%3DBNNkL8hRQAqPOHmqiNOyZg%253D%253D)\n",
    "\n",
    "#### Git Exercise\n",
    "Let's clone the class git repository from GitHub. cd into the directory where you'd like to save it, and clone it.  See [link](https://github.com/genome/bfx_workshop).\n",
    "\n",
    "![Example GitHub Clone/Download Code](https://github.com/genome/bfx-workshop/raw/master/archive/v2020-2021/images/github_clone_repo.png)\n",
    "\n",
    "NOTE: Pull down the \"Code\" button to get the path of the class repository. Then use `git clone PATH` (replacing PATH) to grab your copy.\n"
   ]
  },
  {
   "cell_type": "markdown",
   "metadata": {},
   "source": [
    "### Jupyter Notebook\n",
    "\n",
    "Now that we have Miniconda, Jupyter, and Git installed and functional, we can begin using the Jupyter Notebook as an interactive shell and development environment.\n",
    "\n",
    "First we should navigate on the filesytem, using `cd`, to the directory where we cloned the course repository.\n",
    "\n",
    "A list, or `ls`, of the directory should show at least a `README.md` file and an `lectures` directory.\n",
    "\n",
    "From the terminal command line in the git repo directory, start a Jupyter Notebook. The following command should launch a browser window showing the contents of the repo. \n",
    "\n",
    "```\n",
    "jupyter notebook\n",
    "```\n",
    "\n",
    "From there, you can navigate to lectures/week_01, and click on the bfx_workshop_01_overview.ipynb file to launch *THIS* tutorial in an interactive browser session.  \n",
    "\n",
    "At this point, **switch from viewing the notebook on github to following it here in the interactive notebook you just launched.**"
   ]
  },
  {
   "cell_type": "markdown",
   "metadata": {},
   "source": [
    "### iPython and Shell Commands\n",
    "\n",
    "Many common shell commands can be executed directly through a Notebook using iPython\n",
    "For more on iPython, see this [link](https://jakevdp.github.io/PythonDataScienceHandbook/01.05-ipython-and-shell-commands.html).\n"
   ]
  },
  {
   "cell_type": "code",
   "execution_count": 5,
   "metadata": {},
   "outputs": [
    {
     "name": "stdout",
     "output_type": "stream",
     "text": [
      "/Users/cmiller\n"
     ]
    }
   ],
   "source": [
    "cd ~"
   ]
  },
  {
   "cell_type": "code",
   "execution_count": 6,
   "metadata": {
    "scrolled": false
   },
   "outputs": [
    {
     "name": "stdout",
     "output_type": "stream",
     "text": [
      "\u001b[34mDesktop\u001b[m\u001b[m/              \u001b[34mannotations\u001b[m\u001b[m/          notes.txt\r\n",
      "\u001b[34mDocuments\u001b[m\u001b[m/            \u001b[34mbbedit\u001b[m\u001b[m/               \u001b[34mopt\u001b[m\u001b[m/\r\n",
      "\u001b[34mDownloads\u001b[m\u001b[m/            \u001b[34mLibrary\u001b[m\u001b[m/              \u001b[34mbin\u001b[m\u001b[m/\r\n",
      "\u001b[34mMovies\u001b[m\u001b[m/               \u001b[34mc.a.miller_s1_backup\u001b[m\u001b[m/ \u001b[34mscreenshots\u001b[m\u001b[m/\r\n",
      "\u001b[34mMusic\u001b[m\u001b[m/                \u001b[34mgit\u001b[m\u001b[m/                  \u001b[34msrc\u001b[m\u001b[m/\r\n",
      "\u001b[34mPictures\u001b[m\u001b[m/             \u001b[34migv\u001b[m\u001b[m/                  \u001b[35mtmp\u001b[m\u001b[m@\r\n",
      "\u001b[34mPublic\u001b[m\u001b[m/               \u001b[34mimages\u001b[m\u001b[m/               \u001b[34mworkshop\u001b[m\u001b[m/\r\n"
     ]
    }
   ],
   "source": [
    "ls"
   ]
  },
  {
   "cell_type": "code",
   "execution_count": 8,
   "metadata": {},
   "outputs": [],
   "source": [
    "mkdir -p ~/bfx-workshop"
   ]
  },
  {
   "cell_type": "code",
   "execution_count": 9,
   "metadata": {},
   "outputs": [
    {
     "name": "stdout",
     "output_type": "stream",
     "text": [
      "/Users/cmiller/bfx-workshop\n"
     ]
    }
   ],
   "source": [
    "cd ~/bfx-workshop"
   ]
  },
  {
   "cell_type": "markdown",
   "metadata": {},
   "source": []
  },
  {
   "cell_type": "markdown",
   "metadata": {},
   "source": [
    "### iPython and Shell Commands\n",
    "\n",
    "Many common shell commands can be executed directly through a Notebook using iPython\n",
    "For more on iPython, see this [link](https://jakevdp.github.io/PythonDataScienceHandbook/01.05-ipython-and-shell-commands.html).  For now, let's try a simple shell command to print text to the screen:\n"
   ]
  },
  {
   "cell_type": "code",
   "execution_count": 10,
   "metadata": {},
   "outputs": [
    {
     "ename": "SyntaxError",
     "evalue": "invalid syntax (<ipython-input-10-1c643a414f93>, line 1)",
     "output_type": "error",
     "traceback": [
      "\u001b[0;36m  File \u001b[0;32m\"<ipython-input-10-1c643a414f93>\"\u001b[0;36m, line \u001b[0;32m1\u001b[0m\n\u001b[0;31m    echo \"Hello World\"\u001b[0m\n\u001b[0m         ^\u001b[0m\n\u001b[0;31mSyntaxError\u001b[0m\u001b[0;31m:\u001b[0m invalid syntax\n"
     ]
    }
   ],
   "source": [
    "echo \"Hello World\""
   ]
  },
  {
   "cell_type": "markdown",
   "metadata": {},
   "source": [
    "That didn't work, let's try preceding our command with an exclamation point:"
   ]
  },
  {
   "cell_type": "code",
   "execution_count": 11,
   "metadata": {
    "scrolled": true
   },
   "outputs": [
    {
     "name": "stdout",
     "output_type": "stream",
     "text": [
      "Hello World\r\n"
     ]
    }
   ],
   "source": [
    "!echo \"Hello World\""
   ]
  },
  {
   "cell_type": "markdown",
   "metadata": {},
   "source": [
    "That's enough for now - we'll talk more about jupyter notebooks and their usage later in the course. "
   ]
  },
  {
   "cell_type": "markdown",
   "metadata": {},
   "source": [
    "## Compute and Storage Access\n",
    "\n",
    "Almost all of the modules in this course will be able to be run on your local computer, using small data sets.  Most will also be able to be run on the local high-performance cluster or cloud. These resources are not required right now, but worth becoming familiar with, especially as you begin to extend your knowledge to running tools on your own (probably much larger) data sets.\n",
    "\n",
    "### Google Cloud\n",
    "\n",
    "* [WUIT Google Cloud](https://it.wustl.edu/services/cloud-computing/google-cloud-platform/)\n",
    "* [Google Cloud Console](https://console.cloud.google.com/)\n",
    "* The [Division of Oncology has some guidelines and code](https://github.com/wustl-oncology) that may help with getting up and running \n",
    "\n",
    "### WashU Local Compute and Storage\n",
    "\n",
    "For additional information on Computing Basics with WUIT's Research Infrastructure Services (RIS) supported [Scientific Compute Platform](https://ris.wustl.edu/services/compute/), please see the following workshops offered through [Bernard Becker Medical Library](https://becker.wustl.edu/):\n",
    "\n",
    "* [Computing Basics – Software Applications Needed to Work in High Performance Computing Environments](https://becker.wustl.edu/civicrm/?page=CiviCRM&q=civicrm/event/info&reset=1&id=535) is a virtual workshop offered by [Bernard Becker Medical Library](https://becker.wustl.edu/) in collaboration with WUIT's Research Infrastructure Services (RIS) and will introduce text editors, shell and batch scripts, Docker container technology, and the ssh protocol. \n",
    "    * Attendees will learn how to write, edit and run shell scripts, how to create a simple Docker container, and how to connect to the RIS compute platform.\n",
    "    * [Register Now](https://becker.wustl.edu/civicrm/?civiwp=CiviCRM&q=civicrm%2Fevent%2Fregister&id=535&reset=1) September 22nd, 2022 10:00 AM - 11:30 AM [Add to Calendar](https://becker.wustl.edu/civicrm/?civiwp=CiviCRM&q=civicrm%2Fevent%2Fical&reset=1&id=535)\n",
    "    * Do you have questions about this event? Contact ndonwimaze at wustl.edu\n",
    "* [Computing Basics – Submitting Jobs to the RIS Scientific Compute Platform](https://becker.wustl.edu/civicrm/?page=CiviCRM&q=civicrm/event/info&reset=1&id=534) is a virtual workshop is offered by [Bernard Becker Medical Library](https://becker.wustl.edu/) in collaboration with WUIT's Research Infrastructure Services (RIS) and will introduce basic commands for submitting jobs to the queue on RIS compute platform. \n",
    "    * Attendees will learn how to submit and run jobs/tasks using Docker and queuing system commands.\n",
    "    * NOTE: This event is currently full.\n",
    "    * September 29th, 2022 10:00 AM - 11:30 AM [Add to Calendar](https://becker.wustl.edu/civicrm/?civiwp=CiviCRM&q=civicrm%2Fevent%2Fical&reset=1&id=534)\n",
    "    * Do you have questions about this event? Contact ndonwimaze at wustl.edu\n",
    "\n",
    "* The home for RIS docs supporting the compute1/storage1 environment: https://docs.ris.wustl.edu/\n",
    "    * A complete list of RIS workshop recordings: https://docs.ris.wustl.edu/doc/compute/compute-workshops.html\n",
    "* Virtual workshops are offered in collaboration with WUIT's Research Infrastructure Services (RIS) and will introduce  basic commands for submitting jobs on RIS compute cluster. Please see ##\n",
    "\n",
    "###  LSF and Docker information\n",
    "\n",
    "Working through this [LSF and Docker tutorial](https://gist.github.com/chrisamiller/4b17a8dd310374f078da2bf12b3e2a49) might prove useful "
   ]
  },
  {
   "cell_type": "markdown",
   "metadata": {},
   "source": [
    "### Virtual Private Network (VPN)\n",
    "This course will at times require access to the compute1/storage1 High Perfomance Computing & Storage solutions managed by the Research Infrastructure Services (RIS) team through WUSTL IT. In order to log into this compute environment, first one needs access to the WUSM VPN. For more information, please see the VPN section of this [link](https://it.wustl.edu/items/connect/)."
   ]
  },
  {
   "cell_type": "markdown",
   "metadata": {},
   "source": [
    "#### Scientific Compute/Storage Platform\n",
    "\n",
    "This workshop will cover workflows and pipelines that use the compute1/storage1 environment. This compute and storage environment is not required for all workshops. However, there is a complete RIS seminar series from April 2020 available [here](https://www.youtube.com/playlist?list=PLc5dxOEco26RhSbhBaRLeZoUFOTn7GM-Y) if you need more instruction than listed below.\n",
    "\n",
    "##### Getting Started\n",
    "Please see the \"Getting Started\" section of this [link](https://ris.wustl.edu/services/compute/) if you do not have access to the compute1 platform.\n",
    "\n",
    "##### Getting Connected\n",
    "If you have access, but are unsure how to connect to compute1, please see this [link](https://confluence.ris.wustl.edu/display/ITKB/Compute+Quick+Start#ComputeQuickStart-1.GettingConnected). \n",
    "\n",
    "NOTE: The above link is only accessible from within WUSM's network.\n"
   ]
  }
 ],
 "metadata": {
  "kernelspec": {
   "display_name": "Python 3",
   "language": "python",
   "name": "python3"
  },
  "language_info": {
   "codemirror_mode": {
    "name": "ipython",
    "version": 3
   },
   "file_extension": ".py",
   "mimetype": "text/x-python",
   "name": "python",
   "nbconvert_exporter": "python",
   "pygments_lexer": "ipython3",
   "version": "3.8.16"
  }
 },
 "nbformat": 4,
 "nbformat_minor": 4
}
